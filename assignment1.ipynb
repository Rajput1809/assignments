{
 "cells": [
  {
   "cell_type": "markdown",
   "id": "cb318530-5f92-4f42-b9b8-e811d4f0fb67",
   "metadata": {},
   "source": [
    "QUESTION 1"
   ]
  },
  {
   "cell_type": "code",
   "execution_count": null,
   "id": "046a9119-e553-4db4-8bb3-e05f0c8b5d91",
   "metadata": {},
   "outputs": [],
   "source": [
    "#String\n",
    "a=\"Pwskills\"\n",
    "\n",
    "#List\n",
    "l=[2,3,4,5,6,\"XYZ\",7+8j]\n",
    "\n",
    "#float\n",
    "a=23.45\n",
    "\n",
    "#tuple\n",
    "t=(20,'virender',34.67[30,40,50])"
   ]
  },
  {
   "cell_type": "markdown",
   "id": "c3722edc-0dad-4797-87df-693228b4dc8d",
   "metadata": {},
   "source": [
    "QUESTION 2\n",
    "\n",
    "1. STRING\n",
    "2. STRING\n",
    "3. LIST \n",
    "4. INTEGER"
   ]
  },
  {
   "cell_type": "markdown",
   "id": "f628d66c-c4e4-4fa3-9e00-17b147cfc5e1",
   "metadata": {},
   "source": [
    "QUESTION 3"
   ]
  },
  {
   "cell_type": "code",
   "execution_count": 4,
   "id": "1c0de295-ebfa-4024-bf44-37ce2ca42fe2",
   "metadata": {},
   "outputs": [
    {
     "name": "stdout",
     "output_type": "stream",
     "text": [
      "0\n",
      "1\n",
      "1\n",
      "8\n"
     ]
    }
   ],
   "source": [
    "# % it is a operator use for finding the remainder\n",
    "print(4%2)\n",
    "print(4%3)\n",
    "\n",
    "# // this is a operator used for performin floor division\n",
    "a=3\n",
    "b=2\n",
    "print(a//b)\n",
    "\n",
    "#  ** this operator is used for performing the exponent operation\n",
    "c=2**3\n",
    "print(c)"
   ]
  },
  {
   "cell_type": "markdown",
   "id": "a7cd76c2-9c6c-48fa-ae2f-5cad649a5f89",
   "metadata": {},
   "source": [
    "QUESTION 3\n"
   ]
  },
  {
   "cell_type": "code",
   "execution_count": 5,
   "id": "673442a4-089d-42cc-a204-aab32895ba11",
   "metadata": {},
   "outputs": [
    {
     "name": "stdout",
     "output_type": "stream",
     "text": [
      "10\n",
      "20\n",
      "30\n",
      "virender\n",
      "36.85\n",
      "a\n",
      "b\n",
      "c\n",
      "d\n",
      "e\n"
     ]
    }
   ],
   "source": [
    "l=[10,20,30,'virender',36.85,'a','b','c','d','e']\n",
    "for i in l :\n",
    "    print(i)"
   ]
  },
  {
   "cell_type": "markdown",
   "id": "b90d139a-2b0a-4dc5-9278-645836864599",
   "metadata": {},
   "source": [
    "QUESTION 4"
   ]
  },
  {
   "cell_type": "code",
   "execution_count": 2,
   "id": "d755b294-1c5d-4d52-8901-e5663e94f374",
   "metadata": {},
   "outputs": [
    {
     "name": "stdin",
     "output_type": "stream",
     "text": [
      "enter the value of A 4\n",
      "enter the value of B 2\n"
     ]
    },
    {
     "name": "stdout",
     "output_type": "stream",
     "text": [
      "it is divisible by 1 and the number of times it is divisilbe is 2 times \n"
     ]
    }
   ],
   "source": [
    "A=int(input(\"enter the value of A\"))\n",
    "B=int(input(\"enter the value of B\"))\n",
    "count=0\n",
    "while A%B==0 :\n",
    "    count=count+1\n",
    "    A=A//B\n",
    "if count>0:\n",
    "    print(f\"it is divisible by {A} and the number of times it is divisilbe is {count} times \")\n",
    "else:\n",
    "    print(\"it is not divisible\")"
   ]
  },
  {
   "cell_type": "markdown",
   "id": "d3c33254-a3a1-4429-90be-b934391d4c4e",
   "metadata": {},
   "source": [
    "QUESTION 5"
   ]
  },
  {
   "cell_type": "code",
   "execution_count": null,
   "id": "a696c146-a89b-4fe2-99a8-50ee96aa10ad",
   "metadata": {},
   "outputs": [
    {
     "name": "stdout",
     "output_type": "stream",
     "text": [
      "1\n",
      "2\n",
      "3\n"
     ]
    }
   ],
   "source": [
    "n=[1,2,3,4,5,67,8,9,10,11,12,13,14,15,16,17,18,19,20,21,22,23,24,25]\n",
    "count=0\n",
    "for i in n :\n",
    "    print(i)\n",
    "    while i%3==0:\n",
    "        count=count+1\n",
    "if count>0 :\n",
    "    print(\"it is divisible by 3\")\n",
    "else :\n",
    "    print(\"it is not divisible for 3\")"
   ]
  },
  {
   "cell_type": "markdown",
   "id": "4b816463-15cd-4b50-8f88-19bae93e976e",
   "metadata": {},
   "source": [
    "QUESTION 6\n",
    "if we are able to change or replae a datatype from a collection or  list then it is called as mutable data type\n",
    "\n",
    "if we are unable on change or replace a elemnt from a collection or a string then it is called as immutable datatype"
   ]
  },
  {
   "cell_type": "code",
   "execution_count": null,
   "id": "b4bea70a-3084-4ab9-ac5d-c2b0995faaf0",
   "metadata": {},
   "outputs": [],
   "source": []
  }
 ],
 "metadata": {
  "kernelspec": {
   "display_name": "Python 3 (ipykernel)",
   "language": "python",
   "name": "python3"
  },
  "language_info": {
   "codemirror_mode": {
    "name": "ipython",
    "version": 3
   },
   "file_extension": ".py",
   "mimetype": "text/x-python",
   "name": "python",
   "nbconvert_exporter": "python",
   "pygments_lexer": "ipython3",
   "version": "3.10.8"
  }
 },
 "nbformat": 4,
 "nbformat_minor": 5
}
