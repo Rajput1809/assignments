{
 "cells": [
  {
   "cell_type": "code",
   "execution_count": 5,
   "id": "eb1655f1-e6f7-4f1b-9be2-478c5759e50e",
   "metadata": {},
   "outputs": [
    {
     "name": "stdin",
     "output_type": "stream",
     "text": [
      "enter the value of n 21\n"
     ]
    },
    {
     "name": "stdout",
     "output_type": "stream",
     "text": [
      "0\n",
      "2\n",
      "4\n",
      "6\n",
      "8\n",
      "10\n",
      "12\n",
      "14\n",
      "16\n",
      "18\n",
      "20\n",
      "these are the even numbers\n"
     ]
    }
   ],
   "source": [
    "n=int(input(\"enter the value of n\"))\n",
    "for i in range(0,n):\n",
    "    if i%2==0:\n",
    "        print(i)\n",
    "print(\"these are the even numbers\")"
   ]
  },
  {
   "cell_type": "code",
   "execution_count": 15,
   "id": "b0ece2d8-ff0a-4044-85dd-1d57158d9c99",
   "metadata": {},
   "outputs": [
    {
     "name": "stdin",
     "output_type": "stream",
     "text": [
      "enter the value of n 101\n"
     ]
    },
    {
     "name": "stdout",
     "output_type": "stream",
     "text": [
      "5050\n"
     ]
    }
   ],
   "source": [
    "#Write a Python program that uses a for loop and the range function to iterate over the numbers from 1 to 100 (inclusive). \n",
    "#Calculate the sum of these numbers and display the final sum as the output\n",
    "sum=0\n",
    "n=int(input(\"enter the value of n\"))\n",
    "for i in range(0,n):\n",
    "    sum=sum+i\n",
    "        \n",
    "print(sum)"
   ]
  },
  {
   "cell_type": "code",
   "execution_count": 26,
   "id": "3a93e832-79c8-42ac-849e-7ce978cec523",
   "metadata": {},
   "outputs": [
    {
     "name": "stdin",
     "output_type": "stream",
     "text": [
      "enter the value of n 3\n"
     ]
    },
    {
     "name": "stdout",
     "output_type": "stream",
     "text": [
      "multiplication of 3\n",
      "3 x 1 = 3\n",
      "3 x 2 = 6\n",
      "3 x 3 = 9\n",
      "3 x 4 = 12\n",
      "3 x 5 = 15\n",
      "3 x 6 = 18\n",
      "3 x 7 = 21\n",
      "3 x 8 = 24\n",
      "3 x 9 = 27\n",
      "3 x 10 = 30\n"
     ]
    }
   ],
   "source": [
    "#Write a Python program that takes an input number from the user and prints its multiplication table. \n",
    "#Use a for loop and the range function to iterate from 1 to 10 and calculate the product of the input number with each iteration value.\n",
    "\n",
    "n=int(input(\"enter the value of n\"))\n",
    "print(f\"multiplication of {n}\")\n",
    "for i in range(1,11):\n",
    "    sum=n*i\n",
    "    print(\"{first} x {second} = {third}\".format(first=n,second=i,third=sum))"
   ]
  },
  {
   "cell_type": "code",
   "execution_count": 40,
   "id": "072da978-cc6d-440d-86e6-8e78394d25e3",
   "metadata": {},
   "outputs": [
    {
     "name": "stdin",
     "output_type": "stream",
     "text": [
      "enter the number to calculate the factorial 5\n"
     ]
    },
    {
     "name": "stdout",
     "output_type": "stream",
     "text": [
      "120\n"
     ]
    }
   ],
   "source": [
    "#Write a Python program that takes an input number from the user and calculates its factorial. \n",
    "#Use a for loop and the range function to iterate from 1 to the input number and calculate the factorial by multiplying the current number with each iteration\n",
    "count=1\n",
    "n=int(input(\"enter the number to calculate the factorial\"))\n",
    "for i in range(1,n+1):\n",
    "    count=count*i\n",
    "print(count)\n",
    "\n",
    "    "
   ]
  },
  {
   "cell_type": "code",
   "execution_count": null,
   "id": "31388b29-34ed-4321-8e6c-22da674811bb",
   "metadata": {},
   "outputs": [],
   "source": []
  }
 ],
 "metadata": {
  "kernelspec": {
   "display_name": "Python 3 (ipykernel)",
   "language": "python",
   "name": "python3"
  },
  "language_info": {
   "codemirror_mode": {
    "name": "ipython",
    "version": 3
   },
   "file_extension": ".py",
   "mimetype": "text/x-python",
   "name": "python",
   "nbconvert_exporter": "python",
   "pygments_lexer": "ipython3",
   "version": "3.10.8"
  }
 },
 "nbformat": 4,
 "nbformat_minor": 5
}
